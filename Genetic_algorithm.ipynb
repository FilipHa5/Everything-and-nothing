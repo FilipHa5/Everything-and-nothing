{
 "cells": [
  {
   "cell_type": "code",
   "execution_count": 1,
   "id": "b2180a69",
   "metadata": {},
   "outputs": [],
   "source": [
    "# Generating cities\n",
    "keys =list(map(chr, range(ord('A'), ord('L')+1)))"
   ]
  },
  {
   "cell_type": "code",
   "execution_count": 4,
   "id": "b0a949b2",
   "metadata": {},
   "outputs": [],
   "source": [
    "# Generating coordinates and putting them together to dict\n",
    "import random\n",
    "X_coordinates = [random.randrange(0,500) for i in keys]\n",
    "Y_coordinates = [random.randrange(0,500) for i in keys]\n",
    "points = {keys[i]: [X_coordinates[i], Y_coordinates[i]] for i in range(len(keys))}"
   ]
  },
  {
   "cell_type": "code",
   "execution_count": 5,
   "id": "3eaae889",
   "metadata": {},
   "outputs": [],
   "source": [
    "# creating function to permute cities\n",
    "def permute(iterable):\n",
    "    out = [\"A\"]\n",
    "    e = 0\n",
    "    for index, element in enumerate(keys):\n",
    "        if element != \"A\":\n",
    "            try:\n",
    "                out.insert(random.randint(1,10),element)\n",
    "            except Exception as e:\n",
    "                while e !=0:\n",
    "                    try:\n",
    "                        out.insert(random.randint(1,10),element)\n",
    "                        e=0\n",
    "                        break\n",
    "                    except:\n",
    "                        pass\n",
    "    out.append(\"A\")\n",
    "    return out"
   ]
  },
  {
   "cell_type": "code",
   "execution_count": 6,
   "id": "29e49de5",
   "metadata": {},
   "outputs": [
    {
     "data": {
      "text/plain": [
       "[['A', 'C', 'E', 'I', 'H', 'B', 'G', 'D', 'L', 'F', 'J', 'K', 'A'],\n",
       " ['A', 'K', 'L', 'D', 'H', 'B', 'C', 'E', 'F', 'G', 'I', 'J', 'A'],\n",
       " ['A', 'B', 'C', 'D', 'E', 'F', 'J', 'G', 'K', 'H', 'L', 'I', 'A'],\n",
       " ['A', 'B', 'H', 'C', 'D', 'K', 'I', 'E', 'L', 'G', 'F', 'J', 'A'],\n",
       " ['A', 'B', 'C', 'G', 'D', 'E', 'K', 'F', 'H', 'L', 'I', 'J', 'A'],\n",
       " ['A', 'B', 'C', 'I', 'D', 'H', 'F', 'J', 'K', 'L', 'G', 'E', 'A'],\n",
       " ['A', 'D', 'B', 'I', 'J', 'L', 'H', 'C', 'E', 'F', 'G', 'K', 'A'],\n",
       " ['A', 'B', 'J', 'F', 'L', 'K', 'C', 'D', 'E', 'G', 'I', 'H', 'A'],\n",
       " ['A', 'C', 'D', 'H', 'B', 'I', 'E', 'K', 'L', 'F', 'G', 'J', 'A'],\n",
       " ['A', 'F', 'E', 'B', 'K', 'G', 'H', 'L', 'I', 'C', 'D', 'J', 'A']]"
      ]
     },
     "execution_count": 6,
     "metadata": {},
     "output_type": "execute_result"
    }
   ],
   "source": [
    "# using the function and showing result\n",
    "generation_1 = [permute(keys) for i in range(10)]\n",
    "generation_1"
   ]
  },
  {
   "cell_type": "code",
   "execution_count": 7,
   "id": "6830c896",
   "metadata": {},
   "outputs": [],
   "source": [
    "# creating function to calculate distance\n",
    "import math\n",
    "def calc_distance(iterable):\n",
    "    dist = 0\n",
    "    for index, element in enumerate(iterable):\n",
    "        if index == 0:\n",
    "            continue\n",
    "        current_coordinates = points[element]\n",
    "        previous_coordinates = points[keys[index-1]]\n",
    "        x_diff = abs(current_coordinates[0] - previous_coordinates[0])\n",
    "        y_diff = abs(current_coordinates[1] - previous_coordinates[1])\n",
    "        temp = x_diff**2 + y_diff**2\n",
    "        dist += int(math.sqrt(temp))\n",
    "    return dist"
   ]
  },
  {
   "cell_type": "code",
   "execution_count": 8,
   "id": "0e4bbff4",
   "metadata": {},
   "outputs": [
    {
     "data": {
      "text/plain": [
       "{\"['A', 'C', 'E', 'I', 'H', 'B', 'G', 'D', 'L', 'F', 'J', 'K', 'A']\": 1903,\n",
       " \"['A', 'K', 'L', 'D', 'H', 'B', 'C', 'E', 'F', 'G', 'I', 'J', 'A']\": 2500,\n",
       " \"['A', 'B', 'C', 'D', 'E', 'F', 'J', 'G', 'K', 'H', 'L', 'I', 'A']\": 2310,\n",
       " \"['A', 'B', 'H', 'C', 'D', 'K', 'I', 'E', 'L', 'G', 'F', 'J', 'A']\": 2133,\n",
       " \"['A', 'B', 'C', 'G', 'D', 'E', 'K', 'F', 'H', 'L', 'I', 'J', 'A']\": 1938,\n",
       " \"['A', 'B', 'C', 'I', 'D', 'H', 'F', 'J', 'K', 'L', 'G', 'E', 'A']\": 1608,\n",
       " \"['A', 'D', 'B', 'I', 'J', 'L', 'H', 'C', 'E', 'F', 'G', 'K', 'A']\": 1906,\n",
       " \"['A', 'B', 'J', 'F', 'L', 'K', 'C', 'D', 'E', 'G', 'I', 'H', 'A']\": 2546,\n",
       " \"['A', 'C', 'D', 'H', 'B', 'I', 'E', 'K', 'L', 'F', 'G', 'J', 'A']\": 2494,\n",
       " \"['A', 'F', 'E', 'B', 'K', 'G', 'H', 'L', 'I', 'C', 'D', 'J', 'A']\": 2149}"
      ]
     },
     "execution_count": 8,
     "metadata": {},
     "output_type": "execute_result"
    }
   ],
   "source": [
    "# dict report for current state\n",
    "gen_1_dict = {str(element) : calc_distance(element)  for element in generation_1}\n",
    "gen_1_dict"
   ]
  },
  {
   "cell_type": "code",
   "execution_count": 9,
   "id": "daad4677",
   "metadata": {},
   "outputs": [],
   "source": [
    "# creating crossing function\n",
    "def cross_pair(parent1, parent2):\n",
    "    index = random.randint(1,len(parent1)-2)\n",
    "    part1 = parent1[0 : index]\n",
    "    part2 = parent2[index : 12]\n",
    "    return part1+part2    "
   ]
  },
  {
   "cell_type": "code",
   "execution_count": 10,
   "id": "7c67fdcf",
   "metadata": {},
   "outputs": [
    {
     "data": {
      "text/plain": [
       "[['A', 'K', 'L', 'D', 'H', 'B', 'C', 'E', 'F', 'G', 'J', 'K'],\n",
       " ['A', 'B', 'C', 'D', 'E', 'B', 'C', 'E', 'F', 'G', 'I', 'J'],\n",
       " ['A', 'B', 'H', 'C', 'D', 'K', 'J', 'G', 'K', 'H', 'L', 'I'],\n",
       " ['A', 'B', 'C', 'C', 'D', 'K', 'I', 'E', 'L', 'G', 'F', 'J'],\n",
       " ['A', 'B', 'C', 'I', 'D', 'H', 'K', 'F', 'H', 'L', 'I', 'J'],\n",
       " ['A', 'D', 'B', 'I', 'J', 'L', 'F', 'J', 'K', 'L', 'G', 'E'],\n",
       " ['A', 'B', 'J', 'F', 'L', 'L', 'H', 'C', 'E', 'F', 'G', 'K'],\n",
       " ['A', 'C', 'D', 'H', 'B', 'K', 'C', 'D', 'E', 'G', 'I', 'H'],\n",
       " ['A', 'F', 'E', 'B', 'K', 'G', 'H', 'L', 'I', 'C', 'G', 'J']]"
      ]
     },
     "execution_count": 10,
     "metadata": {},
     "output_type": "execute_result"
    }
   ],
   "source": [
    "# crossing\n",
    "gen_2 = []\n",
    "for index, element in enumerate(generation_1):\n",
    "    if index !=0:\n",
    "        gen_2.append(cross_pair(generation_1[index], generation_1[index-1]))\n",
    "gen_2"
   ]
  },
  {
   "cell_type": "code",
   "execution_count": 11,
   "id": "75579293",
   "metadata": {},
   "outputs": [
    {
     "data": {
      "text/plain": [
       "{\"['A', 'K', 'L', 'D', 'H', 'B', 'C', 'E', 'F', 'G', 'J', 'K']\": 1910,\n",
       " \"['A', 'B', 'C', 'D', 'E', 'B', 'C', 'E', 'F', 'G', 'I', 'J']\": 2288,\n",
       " \"['A', 'B', 'H', 'C', 'D', 'K', 'J', 'G', 'K', 'H', 'L', 'I']\": 1469,\n",
       " \"['A', 'B', 'C', 'C', 'D', 'K', 'I', 'E', 'L', 'G', 'F', 'J']\": 1923,\n",
       " \"['A', 'B', 'C', 'I', 'D', 'H', 'K', 'F', 'H', 'L', 'I', 'J']\": 1910,\n",
       " \"['A', 'D', 'B', 'I', 'J', 'L', 'F', 'J', 'K', 'L', 'G', 'E']\": 1564,\n",
       " \"['A', 'B', 'J', 'F', 'L', 'L', 'H', 'C', 'E', 'F', 'G', 'K']\": 2047,\n",
       " \"['A', 'C', 'D', 'H', 'B', 'K', 'C', 'D', 'E', 'G', 'I', 'H']\": 2414,\n",
       " \"['A', 'F', 'E', 'B', 'K', 'G', 'H', 'L', 'I', 'C', 'G', 'J']\": 1758}"
      ]
     },
     "execution_count": 11,
     "metadata": {},
     "output_type": "execute_result"
    }
   ],
   "source": [
    "# dict report for 1st generation\n",
    "gen_2_dict = {str(element) : calc_distance(element)  for element in gen_2}\n",
    "gen_2_dict"
   ]
  },
  {
   "cell_type": "code",
   "execution_count": null,
   "id": "076871c9",
   "metadata": {},
   "outputs": [],
   "source": []
  }
 ],
 "metadata": {
  "kernelspec": {
   "display_name": "Python 3 (ipykernel)",
   "language": "python",
   "name": "python3"
  },
  "language_info": {
   "codemirror_mode": {
    "name": "ipython",
    "version": 3
   },
   "file_extension": ".py",
   "mimetype": "text/x-python",
   "name": "python",
   "nbconvert_exporter": "python",
   "pygments_lexer": "ipython3",
   "version": "3.9.12"
  }
 },
 "nbformat": 4,
 "nbformat_minor": 5
}
