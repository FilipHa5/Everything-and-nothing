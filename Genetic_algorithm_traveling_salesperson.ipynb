{
 "cells": [
  {
   "cell_type": "code",
   "execution_count": 1,
   "id": "b2180a69",
   "metadata": {},
   "outputs": [],
   "source": [
    "# Generating cities\n",
    "keys =list(map(chr, range(ord('A'), ord('L')+1)))"
   ]
  },
  {
   "cell_type": "code",
   "execution_count": 2,
   "id": "b0a949b2",
   "metadata": {},
   "outputs": [],
   "source": [
    "# Generating coordinates and putting them together to dict\n",
    "import random\n",
    "X_coordinates = [random.randrange(0,500) for i in keys]\n",
    "Y_coordinates = [random.randrange(0,500) for i in keys]\n",
    "points = {keys[i]: [X_coordinates[i], Y_coordinates[i]] for i in range(len(keys))}"
   ]
  },
  {
   "cell_type": "code",
   "execution_count": 3,
   "id": "3eaae889",
   "metadata": {},
   "outputs": [],
   "source": [
    "# creating function to permute cities\n",
    "def permute(iterable):\n",
    "    out = [\"A\"]\n",
    "    e = 0\n",
    "    for index, element in enumerate(keys):\n",
    "        if element != \"A\":\n",
    "            try:\n",
    "                out.insert(random.randint(1,10),element)\n",
    "            except Exception as e:\n",
    "                while e !=0:\n",
    "                    try:\n",
    "                        out.insert(random.randint(1,10),element)\n",
    "                        e=0\n",
    "                        break\n",
    "                    except:\n",
    "                        pass\n",
    "    out.append(\"A\")\n",
    "    return out"
   ]
  },
  {
   "cell_type": "code",
   "execution_count": 4,
   "id": "29e49de5",
   "metadata": {},
   "outputs": [
    {
     "data": {
      "text/plain": [
       "[['A', 'I', 'H', 'K', 'L', 'B', 'E', 'F', 'C', 'D', 'G', 'J', 'A'],\n",
       " ['A', 'B', 'F', 'D', 'C', 'J', 'E', 'L', 'G', 'K', 'H', 'I', 'A'],\n",
       " ['A', 'C', 'L', 'K', 'B', 'D', 'E', 'F', 'G', 'H', 'I', 'J', 'A'],\n",
       " ['A', 'I', 'B', 'L', 'G', 'K', 'E', 'C', 'J', 'H', 'D', 'F', 'A'],\n",
       " ['A', 'G', 'D', 'J', 'B', 'C', 'E', 'K', 'L', 'I', 'H', 'F', 'A'],\n",
       " ['A', 'D', 'I', 'E', 'B', 'C', 'K', 'G', 'L', 'H', 'F', 'J', 'A'],\n",
       " ['A', 'L', 'K', 'D', 'G', 'B', 'E', 'I', 'C', 'J', 'F', 'H', 'A'],\n",
       " ['A', 'G', 'I', 'J', 'B', 'C', 'D', 'E', 'L', 'K', 'H', 'F', 'A'],\n",
       " ['A', 'B', 'H', 'C', 'L', 'J', 'E', 'F', 'D', 'I', 'G', 'K', 'A'],\n",
       " ['A', 'E', 'J', 'B', 'L', 'C', 'I', 'G', 'D', 'F', 'K', 'H', 'A']]"
      ]
     },
     "execution_count": 4,
     "metadata": {},
     "output_type": "execute_result"
    }
   ],
   "source": [
    "# using the function and showing result\n",
    "generation_1 = [permute(keys) for i in range(10)]\n",
    "generation_1"
   ]
  },
  {
   "cell_type": "code",
   "execution_count": 5,
   "id": "6830c896",
   "metadata": {},
   "outputs": [],
   "source": [
    "# creating function to calculate distance\n",
    "import math\n",
    "def calc_distance(iterable):\n",
    "    dist = 0\n",
    "    for index, element in enumerate(iterable):\n",
    "        if index == 0:\n",
    "            continue\n",
    "        current_coordinates = points[element]\n",
    "        previous_coordinates = points[keys[index-1]]\n",
    "        x_diff = abs(current_coordinates[0] - previous_coordinates[0])\n",
    "        y_diff = abs(current_coordinates[1] - previous_coordinates[1])\n",
    "        temp = x_diff**2 + y_diff**2\n",
    "        dist += int(math.sqrt(temp))\n",
    "    return dist"
   ]
  },
  {
   "cell_type": "code",
   "execution_count": 6,
   "id": "0e4bbff4",
   "metadata": {},
   "outputs": [
    {
     "data": {
      "text/plain": [
       "{\"['A', 'I', 'H', 'K', 'L', 'B', 'E', 'F', 'C', 'D', 'G', 'J', 'A']\": 2898,\n",
       " \"['A', 'B', 'F', 'D', 'C', 'J', 'E', 'L', 'G', 'K', 'H', 'I', 'A']\": 3031,\n",
       " \"['A', 'C', 'L', 'K', 'B', 'D', 'E', 'F', 'G', 'H', 'I', 'J', 'A']\": 3368,\n",
       " \"['A', 'I', 'B', 'L', 'G', 'K', 'E', 'C', 'J', 'H', 'D', 'F', 'A']\": 3074,\n",
       " \"['A', 'G', 'D', 'J', 'B', 'C', 'E', 'K', 'L', 'I', 'H', 'F', 'A']\": 3303,\n",
       " \"['A', 'D', 'I', 'E', 'B', 'C', 'K', 'G', 'L', 'H', 'F', 'J', 'A']\": 2852,\n",
       " \"['A', 'L', 'K', 'D', 'G', 'B', 'E', 'I', 'C', 'J', 'F', 'H', 'A']\": 3209,\n",
       " \"['A', 'G', 'I', 'J', 'B', 'C', 'D', 'E', 'L', 'K', 'H', 'F', 'A']\": 3924,\n",
       " \"['A', 'B', 'H', 'C', 'L', 'J', 'E', 'F', 'D', 'I', 'G', 'K', 'A']\": 2300,\n",
       " \"['A', 'E', 'J', 'B', 'L', 'C', 'I', 'G', 'D', 'F', 'K', 'H', 'A']\": 2976}"
      ]
     },
     "execution_count": 6,
     "metadata": {},
     "output_type": "execute_result"
    }
   ],
   "source": [
    "# dict report for current state\n",
    "gen_1_dict = {str(element) : calc_distance(element)  for element in generation_1}\n",
    "gen_1_dict"
   ]
  },
  {
   "cell_type": "code",
   "execution_count": 50,
   "id": "daad4677",
   "metadata": {},
   "outputs": [],
   "source": [
    "# creating PMX crossing function (proposed Goldberg and Lingle)\n",
    "def cross_pair(parent1, parent2):\n",
    "    sequence_map = {}\n",
    "    random_index_p1 = random.randint(1,len(parent1)-1)\n",
    "    random_element_p1 = parent1[random_index_p1]\n",
    "    sequence_map[random_element_p1] = parent1[parent2.index(random_element_p1)]\n",
    "\n",
    "    cutpoints = []\n",
    "    prev_cutpoint = 0\n",
    "    number_of_cutpoints = 2\n",
    "    while (len(cutpoints) != number_of_cutpoints):\n",
    "        random_cutpoint = random.randint(1,len(parent1)-1)\n",
    "        if (random_cutpoint > prev_cutpoint):\n",
    "            cutpoints.append(random_cutpoint)\n",
    "            prev_cutpoint = random_cutpoint\n",
    "\n",
    "    parts_for_offspring_from_p1 = []\n",
    "    parts_for_offspring_from_p2 = []\n",
    "    last_cutpoint = 0\n",
    "    for i in cutpoints:\n",
    "        list_for_cutpoint_p1 = []\n",
    "        list_for_cutpoint_p2 = []\n",
    "        for x in range(i):\n",
    "            if x == 0:\n",
    "                continue\n",
    "            if (x > last_cutpoint):\n",
    "                list_for_cutpoint_p1.append(parent1[x])\n",
    "                list_for_cutpoint_p2.append(parent2[x])\n",
    "                last_cutpoint = x\n",
    "            if (list_for_cutpoint_p1 == []):\n",
    "                continue\n",
    "        parts_for_offspring_from_p1.append(list_for_cutpoint_p1)\n",
    "        parts_for_offspring_from_p2.append(list_for_cutpoint_p2)\n",
    "    last_part_for_offspring_from_p1 = []\n",
    "    last_part_for_offspring_from_p2 = []\n",
    "    for i in range(last_cutpoint+1, len(parent1)-1):\n",
    "        last_part_for_offspring_from_p1.append(parent1[i])\n",
    "        last_part_for_offspring_from_p2.append(parent2[i])\n",
    "\n",
    "    parts_for_offspring_from_p1.append(last_part_for_offspring_from_p1)\n",
    "    parts_for_offspring_from_p2.append(last_part_for_offspring_from_p2)\n",
    "\n",
    "    print (cutpoints)\n",
    "    print(parts_for_offspring_from_p1)\n",
    "    print(\"P2\")\n",
    "    print(parts_for_offspring_from_p2)\n"
   ]
  },
  {
   "cell_type": "code",
   "execution_count": 55,
   "id": "7c67fdcf",
   "metadata": {},
   "outputs": [
    {
     "name": "stdout",
     "output_type": "stream",
     "text": [
      "[3, 7]\n",
      "[['B', 'F'], ['D', 'C', 'J', 'E'], ['L', 'G', 'K', 'H', 'I']]\n",
      "P2\n",
      "[['I', 'H'], ['K', 'L', 'B', 'E'], ['L', 'G', 'K', 'H', 'I']]\n",
      "[8, 10]\n",
      "[['C', 'L', 'K', 'B', 'D', 'E', 'F'], ['G', 'H'], ['I', 'J']]\n",
      "P2\n",
      "[['B', 'F', 'D', 'C', 'J', 'E', 'L'], ['G', 'K'], ['I', 'J']]\n",
      "[3, 8]\n",
      "[['I', 'B'], ['L', 'G', 'K', 'E', 'C'], ['J', 'H', 'D', 'F']]\n",
      "P2\n",
      "[['C', 'L'], ['K', 'B', 'D', 'E', 'F'], ['J', 'H', 'D', 'F']]\n",
      "[1, 11]\n",
      "[[], ['G', 'D', 'J', 'B', 'C', 'E', 'K', 'L', 'I', 'H'], ['F']]\n",
      "P2\n",
      "[[], ['I', 'B', 'L', 'G', 'K', 'E', 'C', 'J', 'H', 'D'], ['F']]\n",
      "[5, 7]\n",
      "[['D', 'I', 'E', 'B'], ['C', 'K'], ['G', 'L', 'H', 'F', 'J']]\n",
      "P2\n",
      "[['G', 'D', 'J', 'B'], ['C', 'E'], ['G', 'L', 'H', 'F', 'J']]\n",
      "[1, 9]\n",
      "[[], ['L', 'K', 'D', 'G', 'B', 'E', 'I', 'C'], ['J', 'F', 'H']]\n",
      "P2\n",
      "[[], ['D', 'I', 'E', 'B', 'C', 'K', 'G', 'L'], ['J', 'F', 'H']]\n",
      "[6, 7]\n",
      "[['G', 'I', 'J', 'B', 'C'], ['D'], ['E', 'L', 'K', 'H', 'F']]\n",
      "P2\n",
      "[['L', 'K', 'D', 'G', 'B'], ['E'], ['E', 'L', 'K', 'H', 'F']]\n",
      "[6, 12]\n",
      "[['B', 'H', 'C', 'L', 'J'], ['E', 'F', 'D', 'I', 'G', 'K'], []]\n",
      "P2\n",
      "[['G', 'I', 'J', 'B', 'C'], ['D', 'E', 'L', 'K', 'H', 'F'], []]\n",
      "[10, 12]\n",
      "[['E', 'J', 'B', 'L', 'C', 'I', 'G', 'D', 'F'], ['K', 'H'], []]\n",
      "P2\n",
      "[['B', 'H', 'C', 'L', 'J', 'E', 'F', 'D', 'I'], ['G', 'K'], []]\n"
     ]
    },
    {
     "data": {
      "text/plain": [
       "[None, None, None, None, None, None, None, None, None]"
      ]
     },
     "execution_count": 55,
     "metadata": {},
     "output_type": "execute_result"
    }
   ],
   "source": [
    "# crossing\n",
    "gen_2 = []\n",
    "for index, element in enumerate(generation_1):\n",
    "    if index !=0:\n",
    "        gen_2.append(cross_pair(generation_1[index], generation_1[index-1]))\n",
    "gen_2"
   ]
  },
  {
   "cell_type": "code",
   "execution_count": 11,
   "id": "75579293",
   "metadata": {},
   "outputs": [
    {
     "data": {
      "text/plain": [
       "{\"['A', 'K', 'L', 'D', 'H', 'B', 'C', 'E', 'F', 'G', 'J', 'K']\": 1910,\n",
       " \"['A', 'B', 'C', 'D', 'E', 'B', 'C', 'E', 'F', 'G', 'I', 'J']\": 2288,\n",
       " \"['A', 'B', 'H', 'C', 'D', 'K', 'J', 'G', 'K', 'H', 'L', 'I']\": 1469,\n",
       " \"['A', 'B', 'C', 'C', 'D', 'K', 'I', 'E', 'L', 'G', 'F', 'J']\": 1923,\n",
       " \"['A', 'B', 'C', 'I', 'D', 'H', 'K', 'F', 'H', 'L', 'I', 'J']\": 1910,\n",
       " \"['A', 'D', 'B', 'I', 'J', 'L', 'F', 'J', 'K', 'L', 'G', 'E']\": 1564,\n",
       " \"['A', 'B', 'J', 'F', 'L', 'L', 'H', 'C', 'E', 'F', 'G', 'K']\": 2047,\n",
       " \"['A', 'C', 'D', 'H', 'B', 'K', 'C', 'D', 'E', 'G', 'I', 'H']\": 2414,\n",
       " \"['A', 'F', 'E', 'B', 'K', 'G', 'H', 'L', 'I', 'C', 'G', 'J']\": 1758}"
      ]
     },
     "execution_count": 11,
     "metadata": {},
     "output_type": "execute_result"
    }
   ],
   "source": [
    "# dict report for 1st generation\n",
    "gen_2_dict = {str(element) : calc_distance(element)  for element in gen_2}\n",
    "gen_2_dict"
   ]
  },
  {
   "cell_type": "code",
   "execution_count": null,
   "id": "076871c9",
   "metadata": {},
   "outputs": [],
   "source": []
  }
 ],
 "metadata": {
  "kernelspec": {
   "display_name": "Python 3",
   "language": "python",
   "name": "python3"
  },
  "language_info": {
   "codemirror_mode": {
    "name": "ipython",
    "version": 3
   },
   "file_extension": ".py",
   "mimetype": "text/x-python",
   "name": "python",
   "nbconvert_exporter": "python",
   "pygments_lexer": "ipython3",
   "version": "3.10.0"
  },
  "vscode": {
   "interpreter": {
    "hash": "ba901fb60bfdffe17c0fb2755e51f30dec99c017b86518adb331db44282d314c"
   }
  }
 },
 "nbformat": 4,
 "nbformat_minor": 5
}
